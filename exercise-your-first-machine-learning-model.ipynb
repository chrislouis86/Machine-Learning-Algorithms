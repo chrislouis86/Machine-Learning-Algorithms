{
 "cells": [
  {
   "cell_type": "markdown",
   "id": "b87d2fb6",
   "metadata": {
    "papermill": {
     "duration": 0.004854,
     "end_time": "2025-01-14T20:31:00.399758",
     "exception": false,
     "start_time": "2025-01-14T20:31:00.394904",
     "status": "completed"
    },
    "tags": []
   },
   "source": [
    "**This notebook is an exercise in the [Introduction to Machine Learning](https://www.kaggle.com/learn/intro-to-machine-learning) course.  You can reference the tutorial at [this link](https://www.kaggle.com/dansbecker/your-first-machine-learning-model).**\n",
    "\n",
    "---\n"
   ]
  },
  {
   "cell_type": "markdown",
   "id": "b4a1a603",
   "metadata": {
    "papermill": {
     "duration": 0.003761,
     "end_time": "2025-01-14T20:31:00.407913",
     "exception": false,
     "start_time": "2025-01-14T20:31:00.404152",
     "status": "completed"
    },
    "tags": []
   },
   "source": [
    "## Recap\n",
    "So far, you have loaded your data and reviewed it with the following code. Run this cell to set up your coding environment where the previous step left off."
   ]
  },
  {
   "cell_type": "code",
   "execution_count": 1,
   "id": "10f695cb",
   "metadata": {
    "execution": {
     "iopub.execute_input": "2025-01-14T20:31:00.417896Z",
     "iopub.status.busy": "2025-01-14T20:31:00.417403Z",
     "iopub.status.idle": "2025-01-14T20:31:02.472606Z",
     "shell.execute_reply": "2025-01-14T20:31:02.471328Z"
    },
    "papermill": {
     "duration": 2.063037,
     "end_time": "2025-01-14T20:31:02.475140",
     "exception": false,
     "start_time": "2025-01-14T20:31:00.412103",
     "status": "completed"
    },
    "tags": []
   },
   "outputs": [
    {
     "name": "stdout",
     "output_type": "stream",
     "text": [
      "Setup Complete\n"
     ]
    }
   ],
   "source": [
    "# Code you have previously used to load data\n",
    "import pandas as pd\n",
    "\n",
    "# Path of the file to read\n",
    "iowa_file_path = '../input/home-data-for-ml-course/train.csv'\n",
    "\n",
    "home_data = pd.read_csv(iowa_file_path)\n",
    "\n",
    "# Set up code checking\n",
    "from learntools.core import binder\n",
    "binder.bind(globals())\n",
    "from learntools.machine_learning.ex3 import *\n",
    "\n",
    "print(\"Setup Complete\")"
   ]
  },
  {
   "cell_type": "markdown",
   "id": "a0c14c42",
   "metadata": {
    "papermill": {
     "duration": 0.004143,
     "end_time": "2025-01-14T20:31:02.483929",
     "exception": false,
     "start_time": "2025-01-14T20:31:02.479786",
     "status": "completed"
    },
    "tags": []
   },
   "source": [
    "# Exercises\n",
    "\n",
    "## Step 1: Specify Prediction Target\n",
    "Select the target variable, which corresponds to the sales price. Save this to a new variable called `y`. You'll need to print a list of the columns to find the name of the column you need.\n"
   ]
  },
  {
   "cell_type": "code",
   "execution_count": 2,
   "id": "f27fc132",
   "metadata": {
    "execution": {
     "iopub.execute_input": "2025-01-14T20:31:02.493761Z",
     "iopub.status.busy": "2025-01-14T20:31:02.493221Z",
     "iopub.status.idle": "2025-01-14T20:31:02.504396Z",
     "shell.execute_reply": "2025-01-14T20:31:02.503139Z"
    },
    "papermill": {
     "duration": 0.01791,
     "end_time": "2025-01-14T20:31:02.506039",
     "exception": false,
     "start_time": "2025-01-14T20:31:02.488129",
     "status": "completed"
    },
    "tags": []
   },
   "outputs": [
    {
     "name": "stdout",
     "output_type": "stream",
     "text": [
      "Index(['Id', 'MSSubClass', 'MSZoning', 'LotFrontage', 'LotArea', 'Street',\n",
      "       'Alley', 'LotShape', 'LandContour', 'Utilities', 'LotConfig',\n",
      "       'LandSlope', 'Neighborhood', 'Condition1', 'Condition2', 'BldgType',\n",
      "       'HouseStyle', 'OverallQual', 'OverallCond', 'YearBuilt', 'YearRemodAdd',\n",
      "       'RoofStyle', 'RoofMatl', 'Exterior1st', 'Exterior2nd', 'MasVnrType',\n",
      "       'MasVnrArea', 'ExterQual', 'ExterCond', 'Foundation', 'BsmtQual',\n",
      "       'BsmtCond', 'BsmtExposure', 'BsmtFinType1', 'BsmtFinSF1',\n",
      "       'BsmtFinType2', 'BsmtFinSF2', 'BsmtUnfSF', 'TotalBsmtSF', 'Heating',\n",
      "       'HeatingQC', 'CentralAir', 'Electrical', '1stFlrSF', '2ndFlrSF',\n",
      "       'LowQualFinSF', 'GrLivArea', 'BsmtFullBath', 'BsmtHalfBath', 'FullBath',\n",
      "       'HalfBath', 'BedroomAbvGr', 'KitchenAbvGr', 'KitchenQual',\n",
      "       'TotRmsAbvGrd', 'Functional', 'Fireplaces', 'FireplaceQu', 'GarageType',\n",
      "       'GarageYrBlt', 'GarageFinish', 'GarageCars', 'GarageArea', 'GarageQual',\n",
      "       'GarageCond', 'PavedDrive', 'WoodDeckSF', 'OpenPorchSF',\n",
      "       'EnclosedPorch', '3SsnPorch', 'ScreenPorch', 'PoolArea', 'PoolQC',\n",
      "       'Fence', 'MiscFeature', 'MiscVal', 'MoSold', 'YrSold', 'SaleType',\n",
      "       'SaleCondition', 'SalePrice'],\n",
      "      dtype='object')\n"
     ]
    }
   ],
   "source": [
    "# print the list of columns in the dataset to find the name of the prediction target\n",
    "y = home_data.SalePrice\n",
    "print(home_data.columns)"
   ]
  },
  {
   "cell_type": "code",
   "execution_count": 3,
   "id": "630e9423",
   "metadata": {
    "execution": {
     "iopub.execute_input": "2025-01-14T20:31:02.516574Z",
     "iopub.status.busy": "2025-01-14T20:31:02.516197Z",
     "iopub.status.idle": "2025-01-14T20:31:02.520081Z",
     "shell.execute_reply": "2025-01-14T20:31:02.518982Z"
    },
    "papermill": {
     "duration": 0.010881,
     "end_time": "2025-01-14T20:31:02.521742",
     "exception": false,
     "start_time": "2025-01-14T20:31:02.510861",
     "status": "completed"
    },
    "tags": []
   },
   "outputs": [],
   "source": [
    "#step_1.hint()\n",
    "#step_1.solution()"
   ]
  },
  {
   "cell_type": "markdown",
   "id": "1b2cf433",
   "metadata": {
    "papermill": {
     "duration": 0.00396,
     "end_time": "2025-01-14T20:31:02.530074",
     "exception": false,
     "start_time": "2025-01-14T20:31:02.526114",
     "status": "completed"
    },
    "tags": []
   },
   "source": [
    "## Step 2: Create X\n",
    "Now you will create a DataFrame called `X` holding the predictive features.\n",
    "\n",
    "Since you want only some columns from the original data, you'll first create a list with the names of the columns you want in `X`.\n",
    "\n",
    "You'll use just the following columns in the list (you can copy and paste the whole list to save some typing, though you'll still need to add quotes):\n",
    "  * LotArea\n",
    "  * YearBuilt\n",
    "  * 1stFlrSF\n",
    "  * 2ndFlrSF\n",
    "  * FullBath\n",
    "  * BedroomAbvGr\n",
    "  * TotRmsAbvGrd\n",
    "\n",
    "After you've created that list of features, use it to create the DataFrame that you'll use to fit the model."
   ]
  },
  {
   "cell_type": "code",
   "execution_count": 4,
   "id": "d32b7115",
   "metadata": {
    "execution": {
     "iopub.execute_input": "2025-01-14T20:31:02.539848Z",
     "iopub.status.busy": "2025-01-14T20:31:02.539422Z",
     "iopub.status.idle": "2025-01-14T20:31:02.557106Z",
     "shell.execute_reply": "2025-01-14T20:31:02.555992Z"
    },
    "papermill": {
     "duration": 0.024547,
     "end_time": "2025-01-14T20:31:02.558834",
     "exception": false,
     "start_time": "2025-01-14T20:31:02.534287",
     "status": "completed"
    },
    "tags": []
   },
   "outputs": [
    {
     "data": {
      "application/javascript": [
       "parent.postMessage({\"jupyterEvent\": \"custom.exercise_interaction\", \"data\": {\"outcomeType\": 1, \"valueTowardsCompletion\": 0.25, \"interactionType\": 1, \"questionType\": 2, \"questionId\": \"2_SelectPredictionData\", \"learnToolsVersion\": \"0.3.4\", \"failureMessage\": \"\", \"exceptionClass\": \"\", \"trace\": \"\"}}, \"*\")"
      ],
      "text/plain": [
       "<IPython.core.display.Javascript object>"
      ]
     },
     "metadata": {},
     "output_type": "display_data"
    },
    {
     "data": {
      "text/markdown": [
       "<span style=\"color:#33cc33\">Correct</span>"
      ],
      "text/plain": [
       "Correct"
      ]
     },
     "metadata": {},
     "output_type": "display_data"
    }
   ],
   "source": [
    "# Create the list of features below\n",
    "feature_names = [\"LotArea\", \"YearBuilt\", \"1stFlrSF\", \"2ndFlrSF\",\n",
    "                      \"FullBath\", \"BedroomAbvGr\", \"TotRmsAbvGrd\"]\n",
    "\n",
    "# Select data corresponding to features in feature_names\n",
    "X = home_data[feature_names]\n",
    "\n",
    "# Check your answer\n",
    "step_2.check()"
   ]
  },
  {
   "cell_type": "code",
   "execution_count": 5,
   "id": "492991dd",
   "metadata": {
    "execution": {
     "iopub.execute_input": "2025-01-14T20:31:02.569523Z",
     "iopub.status.busy": "2025-01-14T20:31:02.569185Z",
     "iopub.status.idle": "2025-01-14T20:31:02.572741Z",
     "shell.execute_reply": "2025-01-14T20:31:02.571844Z"
    },
    "papermill": {
     "duration": 0.01069,
     "end_time": "2025-01-14T20:31:02.574279",
     "exception": false,
     "start_time": "2025-01-14T20:31:02.563589",
     "status": "completed"
    },
    "tags": []
   },
   "outputs": [],
   "source": [
    "#step_2.hint()\n",
    "#step_2.solution()"
   ]
  },
  {
   "cell_type": "markdown",
   "id": "9951033a",
   "metadata": {
    "papermill": {
     "duration": 0.004232,
     "end_time": "2025-01-14T20:31:02.583283",
     "exception": false,
     "start_time": "2025-01-14T20:31:02.579051",
     "status": "completed"
    },
    "tags": []
   },
   "source": [
    "## Review Data\n",
    "Before building a model, take a quick look at **X** to verify it looks sensible"
   ]
  },
  {
   "cell_type": "code",
   "execution_count": 6,
   "id": "cf6beedf",
   "metadata": {
    "execution": {
     "iopub.execute_input": "2025-01-14T20:31:02.593508Z",
     "iopub.status.busy": "2025-01-14T20:31:02.593169Z",
     "iopub.status.idle": "2025-01-14T20:31:02.701444Z",
     "shell.execute_reply": "2025-01-14T20:31:02.700174Z"
    },
    "papermill": {
     "duration": 0.115585,
     "end_time": "2025-01-14T20:31:02.703245",
     "exception": false,
     "start_time": "2025-01-14T20:31:02.587660",
     "status": "completed"
    },
    "tags": []
   },
   "outputs": [
    {
     "name": "stdout",
     "output_type": "stream",
     "text": [
      "             LotArea    YearBuilt     1stFlrSF     2ndFlrSF     FullBath  \\\n",
      "count    1460.000000  1460.000000  1460.000000  1460.000000  1460.000000   \n",
      "mean    10516.828082  1971.267808  1162.626712   346.992466     1.565068   \n",
      "std      9981.264932    30.202904   386.587738   436.528436     0.550916   \n",
      "min      1300.000000  1872.000000   334.000000     0.000000     0.000000   \n",
      "25%      7553.500000  1954.000000   882.000000     0.000000     1.000000   \n",
      "50%      9478.500000  1973.000000  1087.000000     0.000000     2.000000   \n",
      "75%     11601.500000  2000.000000  1391.250000   728.000000     2.000000   \n",
      "max    215245.000000  2010.000000  4692.000000  2065.000000     3.000000   \n",
      "\n",
      "       BedroomAbvGr  TotRmsAbvGrd  \n",
      "count   1460.000000   1460.000000  \n",
      "mean       2.866438      6.517808  \n",
      "std        0.815778      1.625393  \n",
      "min        0.000000      2.000000  \n",
      "25%        2.000000      5.000000  \n",
      "50%        3.000000      6.000000  \n",
      "75%        3.000000      7.000000  \n",
      "max        8.000000     14.000000  \n",
      "   LotArea  YearBuilt  1stFlrSF  2ndFlrSF  FullBath  BedroomAbvGr  \\\n",
      "0     8450       2003       856       854         2             3   \n",
      "1     9600       1976      1262         0         2             3   \n",
      "2    11250       2001       920       866         2             3   \n",
      "3     9550       1915       961       756         1             3   \n",
      "4    14260       2000      1145      1053         2             4   \n",
      "\n",
      "   TotRmsAbvGrd  \n",
      "0             8  \n",
      "1             6  \n",
      "2             6  \n",
      "3             7  \n",
      "4             9  \n"
     ]
    }
   ],
   "source": [
    "# Reveiw Data \n",
    "print(X.describe())\n",
    "\n",
    "# print the top few lines \n",
    "print(X.head())"
   ]
  },
  {
   "cell_type": "markdown",
   "id": "a1cd238a",
   "metadata": {
    "papermill": {
     "duration": 0.004336,
     "end_time": "2025-01-14T20:31:02.712353",
     "exception": false,
     "start_time": "2025-01-14T20:31:02.708017",
     "status": "completed"
    },
    "tags": []
   },
   "source": [
    "## Step 3: Specify and Fit Model\n",
    "Create a `DecisionTreeRegressor` and save it iowa_model. Ensure you've done the relevant import from sklearn to run this command.\n",
    "\n",
    "Then fit the model you just created using the data in `X` and `y` that you saved above."
   ]
  },
  {
   "cell_type": "code",
   "execution_count": 7,
   "id": "4bc7b591",
   "metadata": {
    "execution": {
     "iopub.execute_input": "2025-01-14T20:31:02.722594Z",
     "iopub.status.busy": "2025-01-14T20:31:02.722225Z",
     "iopub.status.idle": "2025-01-14T20:31:02.741328Z",
     "shell.execute_reply": "2025-01-14T20:31:02.740235Z"
    },
    "papermill": {
     "duration": 0.026125,
     "end_time": "2025-01-14T20:31:02.742914",
     "exception": false,
     "start_time": "2025-01-14T20:31:02.716789",
     "status": "completed"
    },
    "tags": []
   },
   "outputs": [
    {
     "data": {
      "application/javascript": [
       "parent.postMessage({\"jupyterEvent\": \"custom.exercise_interaction\", \"data\": {\"outcomeType\": 1, \"valueTowardsCompletion\": 0.25, \"interactionType\": 1, \"questionType\": 2, \"questionId\": \"3_CreateModel\", \"learnToolsVersion\": \"0.3.4\", \"failureMessage\": \"\", \"exceptionClass\": \"\", \"trace\": \"\"}}, \"*\")"
      ],
      "text/plain": [
       "<IPython.core.display.Javascript object>"
      ]
     },
     "metadata": {},
     "output_type": "display_data"
    },
    {
     "data": {
      "text/markdown": [
       "<span style=\"color:#33cc33\">Correct</span>"
      ],
      "text/plain": [
       "Correct"
      ]
     },
     "metadata": {},
     "output_type": "display_data"
    }
   ],
   "source": [
    "from sklearn.tree import DecisionTreeRegressor \n",
    "#specify the model. \n",
    "#For model reproducibility, set a numeric value for random_state when specifying the model\n",
    "iowa_model = DecisionTreeRegressor(random_state=1)\n",
    "\n",
    "# Fit the model\n",
    "iowa_model.fit(X, y)\n",
    "\n",
    "# Check your answer\n",
    "step_3.check()"
   ]
  },
  {
   "cell_type": "code",
   "execution_count": 8,
   "id": "765ef61f",
   "metadata": {
    "execution": {
     "iopub.execute_input": "2025-01-14T20:31:02.754498Z",
     "iopub.status.busy": "2025-01-14T20:31:02.754130Z",
     "iopub.status.idle": "2025-01-14T20:31:02.758438Z",
     "shell.execute_reply": "2025-01-14T20:31:02.757295Z"
    },
    "papermill": {
     "duration": 0.011969,
     "end_time": "2025-01-14T20:31:02.760322",
     "exception": false,
     "start_time": "2025-01-14T20:31:02.748353",
     "status": "completed"
    },
    "tags": []
   },
   "outputs": [],
   "source": [
    "#step_3.hint()\n",
    "#step_3.solution()"
   ]
  },
  {
   "cell_type": "markdown",
   "id": "0857b63c",
   "metadata": {
    "papermill": {
     "duration": 0.004602,
     "end_time": "2025-01-14T20:31:02.769843",
     "exception": false,
     "start_time": "2025-01-14T20:31:02.765241",
     "status": "completed"
    },
    "tags": []
   },
   "source": [
    "## Step 4: Make Predictions\n",
    "Make predictions with the model's `predict` command using `X` as the data. Save the results to a variable called `predictions`."
   ]
  },
  {
   "cell_type": "code",
   "execution_count": 9,
   "id": "b15cd123",
   "metadata": {
    "execution": {
     "iopub.execute_input": "2025-01-14T20:31:02.780748Z",
     "iopub.status.busy": "2025-01-14T20:31:02.780407Z",
     "iopub.status.idle": "2025-01-14T20:31:02.792706Z",
     "shell.execute_reply": "2025-01-14T20:31:02.791720Z"
    },
    "papermill": {
     "duration": 0.01961,
     "end_time": "2025-01-14T20:31:02.794224",
     "exception": false,
     "start_time": "2025-01-14T20:31:02.774614",
     "status": "completed"
    },
    "tags": []
   },
   "outputs": [
    {
     "name": "stdout",
     "output_type": "stream",
     "text": [
      "[208500. 181500. 223500. ... 266500. 142125. 147500.]\n"
     ]
    },
    {
     "data": {
      "application/javascript": [
       "parent.postMessage({\"jupyterEvent\": \"custom.exercise_interaction\", \"data\": {\"outcomeType\": 1, \"valueTowardsCompletion\": 0.25, \"interactionType\": 1, \"questionType\": 2, \"questionId\": \"4_MakePredictions\", \"learnToolsVersion\": \"0.3.4\", \"failureMessage\": \"\", \"exceptionClass\": \"\", \"trace\": \"\"}}, \"*\")"
      ],
      "text/plain": [
       "<IPython.core.display.Javascript object>"
      ]
     },
     "metadata": {},
     "output_type": "display_data"
    },
    {
     "data": {
      "text/markdown": [
       "<span style=\"color:#33cc33\">Correct</span>"
      ],
      "text/plain": [
       "Correct"
      ]
     },
     "metadata": {},
     "output_type": "display_data"
    }
   ],
   "source": [
    "predictions = iowa_model.predict(X)\n",
    "print(predictions)\n",
    "\n",
    "# Check your answer\n",
    "step_4.check()"
   ]
  },
  {
   "cell_type": "code",
   "execution_count": 10,
   "id": "9b1ab7ca",
   "metadata": {
    "execution": {
     "iopub.execute_input": "2025-01-14T20:31:02.805711Z",
     "iopub.status.busy": "2025-01-14T20:31:02.805373Z",
     "iopub.status.idle": "2025-01-14T20:31:02.809441Z",
     "shell.execute_reply": "2025-01-14T20:31:02.808307Z"
    },
    "papermill": {
     "duration": 0.011892,
     "end_time": "2025-01-14T20:31:02.811225",
     "exception": false,
     "start_time": "2025-01-14T20:31:02.799333",
     "status": "completed"
    },
    "tags": []
   },
   "outputs": [],
   "source": [
    "#step_4.hint()\n",
    "#step_4.solution()"
   ]
  },
  {
   "cell_type": "markdown",
   "id": "55d7e75a",
   "metadata": {
    "papermill": {
     "duration": 0.004913,
     "end_time": "2025-01-14T20:31:02.821844",
     "exception": false,
     "start_time": "2025-01-14T20:31:02.816931",
     "status": "completed"
    },
    "tags": []
   },
   "source": [
    "## Think About Your Results\n",
    "\n",
    "Use the `head` method to compare the top few predictions to the actual home values (in `y`) for those same homes. Anything surprising?\n"
   ]
  },
  {
   "cell_type": "code",
   "execution_count": 11,
   "id": "b0e38733",
   "metadata": {
    "execution": {
     "iopub.execute_input": "2025-01-14T20:31:02.833413Z",
     "iopub.status.busy": "2025-01-14T20:31:02.833067Z",
     "iopub.status.idle": "2025-01-14T20:31:02.839718Z",
     "shell.execute_reply": "2025-01-14T20:31:02.838635Z"
    },
    "papermill": {
     "duration": 0.01436,
     "end_time": "2025-01-14T20:31:02.841324",
     "exception": false,
     "start_time": "2025-01-14T20:31:02.826964",
     "status": "completed"
    },
    "tags": []
   },
   "outputs": [
    {
     "data": {
      "text/plain": [
       "0    208500\n",
       "1    181500\n",
       "2    223500\n",
       "3    140000\n",
       "4    250000\n",
       "Name: SalePrice, dtype: int64"
      ]
     },
     "execution_count": 11,
     "metadata": {},
     "output_type": "execute_result"
    }
   ],
   "source": [
    "# You can write code in this cell\n",
    "y.head()"
   ]
  },
  {
   "cell_type": "markdown",
   "id": "0fbbaede",
   "metadata": {
    "papermill": {
     "duration": 0.005067,
     "end_time": "2025-01-14T20:31:02.851714",
     "exception": false,
     "start_time": "2025-01-14T20:31:02.846647",
     "status": "completed"
    },
    "tags": []
   },
   "source": [
    "It's natural to ask how accurate the model's predictions will be and how you can improve that. That will be you're next step.\n",
    "\n",
    "# Keep Going\n",
    "\n",
    "You are ready for **[Model Validation](https://www.kaggle.com/dansbecker/model-validation).**\n"
   ]
  },
  {
   "cell_type": "markdown",
   "id": "99282f75",
   "metadata": {
    "papermill": {
     "duration": 0.005123,
     "end_time": "2025-01-14T20:31:02.861858",
     "exception": false,
     "start_time": "2025-01-14T20:31:02.856735",
     "status": "completed"
    },
    "tags": []
   },
   "source": [
    "---\n",
    "\n",
    "\n",
    "\n",
    "\n",
    "*Have questions or comments? Visit the [course discussion forum](https://www.kaggle.com/learn/intro-to-machine-learning/discussion) to chat with other learners.*"
   ]
  }
 ],
 "metadata": {
  "kaggle": {
   "accelerator": "none",
   "dataSources": [
    {
     "databundleVersionId": 111096,
     "sourceId": 10211,
     "sourceType": "competition"
    },
    {
     "datasetId": 11167,
     "sourceId": 15520,
     "sourceType": "datasetVersion"
    },
    {
     "datasetId": 2709,
     "sourceId": 38454,
     "sourceType": "datasetVersion"
    }
   ],
   "isGpuEnabled": false,
   "isInternetEnabled": false,
   "language": "python",
   "sourceType": "notebook"
  },
  "kernelspec": {
   "display_name": "Python 3",
   "language": "python",
   "name": "python3"
  },
  "language_info": {
   "codemirror_mode": {
    "name": "ipython",
    "version": 3
   },
   "file_extension": ".py",
   "mimetype": "text/x-python",
   "name": "python",
   "nbconvert_exporter": "python",
   "pygments_lexer": "ipython3",
   "version": "3.10.12"
  },
  "papermill": {
   "default_parameters": {},
   "duration": 5.635076,
   "end_time": "2025-01-14T20:31:03.787964",
   "environment_variables": {},
   "exception": null,
   "input_path": "__notebook__.ipynb",
   "output_path": "__notebook__.ipynb",
   "parameters": {},
   "start_time": "2025-01-14T20:30:58.152888",
   "version": "2.6.0"
  }
 },
 "nbformat": 4,
 "nbformat_minor": 5
}
